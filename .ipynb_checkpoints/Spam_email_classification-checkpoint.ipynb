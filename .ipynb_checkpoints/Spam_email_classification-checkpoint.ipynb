{
 "cells": [
  {
   "cell_type": "markdown",
   "id": "027512dd-a457-4c4b-b827-71a584cd7626",
   "metadata": {},
   "source": [
    "# Email Spam Classification"
   ]
  },
  {
   "cell_type": "markdown",
   "id": "d3a13f40-27b0-4bce-a988-850b9c98bbfd",
   "metadata": {},
   "source": [
    "## task_1:\n",
    "Dataset collection: Data collected and stored in csv file."
   ]
  },
  {
   "cell_type": "markdown",
   "id": "462a9554-6b80-4b99-b38b-43a656b3a5b8",
   "metadata": {},
   "source": [
    "## Importing important libraries"
   ]
  },
  {
   "cell_type": "code",
   "execution_count": 54,
   "id": "e99c0e12-6342-4e83-b618-c0cb3b82273e",
   "metadata": {},
   "outputs": [],
   "source": [
    "import numpy as np # to perform numrical operations on data\n",
    "import pandas as pd # to read and perform operations on dataod\n",
    "import matplotlib.pyplot as plt # for data visualization \n",
    "import seaborn as sns"
   ]
  },
  {
   "cell_type": "code",
   "execution_count": 55,
   "id": "4b71dd18-5e4a-4402-be01-a4af4f6ea123",
   "metadata": {},
   "outputs": [],
   "source": [
    "#reading data from file\n",
    "df=pd.read_csv(\"mail_data.csv\")"
   ]
  },
  {
   "cell_type": "code",
   "execution_count": 56,
   "id": "873e08b7-1052-4de3-8b57-d6d3e3110530",
   "metadata": {},
   "outputs": [
    {
     "data": {
      "text/html": [
       "<div>\n",
       "<style scoped>\n",
       "    .dataframe tbody tr th:only-of-type {\n",
       "        vertical-align: middle;\n",
       "    }\n",
       "\n",
       "    .dataframe tbody tr th {\n",
       "        vertical-align: top;\n",
       "    }\n",
       "\n",
       "    .dataframe thead th {\n",
       "        text-align: right;\n",
       "    }\n",
       "</style>\n",
       "<table border=\"1\" class=\"dataframe\">\n",
       "  <thead>\n",
       "    <tr style=\"text-align: right;\">\n",
       "      <th></th>\n",
       "      <th>Category</th>\n",
       "      <th>Message</th>\n",
       "    </tr>\n",
       "  </thead>\n",
       "  <tbody>\n",
       "    <tr>\n",
       "      <th>0</th>\n",
       "      <td>ham</td>\n",
       "      <td>Go until jurong point, crazy.. Available only ...</td>\n",
       "    </tr>\n",
       "    <tr>\n",
       "      <th>1</th>\n",
       "      <td>ham</td>\n",
       "      <td>Ok lar... Joking wif u oni...</td>\n",
       "    </tr>\n",
       "    <tr>\n",
       "      <th>2</th>\n",
       "      <td>spam</td>\n",
       "      <td>Free entry in 2 a wkly comp to win FA Cup fina...</td>\n",
       "    </tr>\n",
       "    <tr>\n",
       "      <th>3</th>\n",
       "      <td>ham</td>\n",
       "      <td>U dun say so early hor... U c already then say...</td>\n",
       "    </tr>\n",
       "    <tr>\n",
       "      <th>4</th>\n",
       "      <td>ham</td>\n",
       "      <td>Nah I don't think he goes to usf, he lives aro...</td>\n",
       "    </tr>\n",
       "    <tr>\n",
       "      <th>5</th>\n",
       "      <td>spam</td>\n",
       "      <td>FreeMsg Hey there darling it's been 3 week's n...</td>\n",
       "    </tr>\n",
       "    <tr>\n",
       "      <th>6</th>\n",
       "      <td>ham</td>\n",
       "      <td>Even my brother is not like to speak with me. ...</td>\n",
       "    </tr>\n",
       "    <tr>\n",
       "      <th>7</th>\n",
       "      <td>ham</td>\n",
       "      <td>As per your request 'Melle Melle (Oru Minnamin...</td>\n",
       "    </tr>\n",
       "    <tr>\n",
       "      <th>8</th>\n",
       "      <td>spam</td>\n",
       "      <td>WINNER!! As a valued network customer you have...</td>\n",
       "    </tr>\n",
       "    <tr>\n",
       "      <th>9</th>\n",
       "      <td>spam</td>\n",
       "      <td>Had your mobile 11 months or more? U R entitle...</td>\n",
       "    </tr>\n",
       "  </tbody>\n",
       "</table>\n",
       "</div>"
      ],
      "text/plain": [
       "  Category                                            Message\n",
       "0      ham  Go until jurong point, crazy.. Available only ...\n",
       "1      ham                      Ok lar... Joking wif u oni...\n",
       "2     spam  Free entry in 2 a wkly comp to win FA Cup fina...\n",
       "3      ham  U dun say so early hor... U c already then say...\n",
       "4      ham  Nah I don't think he goes to usf, he lives aro...\n",
       "5     spam  FreeMsg Hey there darling it's been 3 week's n...\n",
       "6      ham  Even my brother is not like to speak with me. ...\n",
       "7      ham  As per your request 'Melle Melle (Oru Minnamin...\n",
       "8     spam  WINNER!! As a valued network customer you have...\n",
       "9     spam  Had your mobile 11 months or more? U R entitle..."
      ]
     },
     "execution_count": 56,
     "metadata": {},
     "output_type": "execute_result"
    }
   ],
   "source": [
    "#printing sample data of first 10 rows\n",
    "df.head(10)"
   ]
  },
  {
   "cell_type": "code",
   "execution_count": 57,
   "id": "570b97e7-2801-4ecd-8be1-8bfe4530354e",
   "metadata": {},
   "outputs": [
    {
     "data": {
      "text/plain": [
       "(5572, 2)"
      ]
     },
     "execution_count": 57,
     "metadata": {},
     "output_type": "execute_result"
    }
   ],
   "source": [
    "#printing data shape to know more about data set\n",
    "df.shape # our data contains 5572 rows and 2 columns"
   ]
  },
  {
   "cell_type": "markdown",
   "id": "e6fd461a-8daf-42d0-b73b-e90dc9b0b696",
   "metadata": {},
   "source": [
    "# 2. Data Preproceesing "
   ]
  },
  {
   "cell_type": "markdown",
   "id": "0804f37a-d755-4b96-b84c-214d8c0e3f17",
   "metadata": {},
   "source": [
    "1. Data preprocessing involves performing operations on data make it clean and error free. \n",
    "2. remove duplicate values\n",
    "3. remove null values\n",
    "4. remove unwanted data\n",
    "5. convert to lower case \n",
    "6. remove special character like / .,;\n"
   ]
  },
  {
   "cell_type": "code",
   "execution_count": 58,
   "id": "37d65c2a-c088-4443-9fd6-a9207e1b9267",
   "metadata": {},
   "outputs": [
    {
     "name": "stdout",
     "output_type": "stream",
     "text": [
      "<class 'pandas.core.frame.DataFrame'>\n",
      "RangeIndex: 5572 entries, 0 to 5571\n",
      "Data columns (total 2 columns):\n",
      " #   Column    Non-Null Count  Dtype \n",
      "---  ------    --------------  ----- \n",
      " 0   Category  5572 non-null   object\n",
      " 1   Message   5572 non-null   object\n",
      "dtypes: object(2)\n",
      "memory usage: 87.2+ KB\n"
     ]
    }
   ],
   "source": [
    "#getting more information about data \n",
    "df.info()"
   ]
  },
  {
   "cell_type": "code",
   "execution_count": 59,
   "id": "c837e535-a773-45f8-a7e3-ea667fdf241c",
   "metadata": {},
   "outputs": [
    {
     "data": {
      "text/plain": [
       "Category    0\n",
       "Message     0\n",
       "dtype: int64"
      ]
     },
     "execution_count": 59,
     "metadata": {},
     "output_type": "execute_result"
    }
   ],
   "source": [
    "#checking null values\n",
    "df.isnull().sum()\n",
    "#our does not contain any null values "
   ]
  },
  {
   "cell_type": "code",
   "execution_count": 60,
   "id": "86f1083c-dd3f-40b7-b63a-31327d0188da",
   "metadata": {},
   "outputs": [
    {
     "data": {
      "text/plain": [
       "np.int64(415)"
      ]
     },
     "execution_count": 60,
     "metadata": {},
     "output_type": "execute_result"
    }
   ],
   "source": [
    "#check for duplicate values \n",
    "df.duplicated().sum()"
   ]
  },
  {
   "cell_type": "code",
   "execution_count": 61,
   "id": "fa0e49de-dadb-454d-8f91-e84e8715e312",
   "metadata": {},
   "outputs": [],
   "source": [
    "#dropping duplicate values\n",
    "#using inplace=True to change values in original data set \n",
    "df.drop_duplicates(inplace=True)"
   ]
  },
  {
   "cell_type": "code",
   "execution_count": 62,
   "id": "f7e4820f-b012-4f3d-8eca-fbfc0fa820de",
   "metadata": {},
   "outputs": [
    {
     "data": {
      "text/plain": [
       "np.int64(0)"
      ]
     },
     "execution_count": 62,
     "metadata": {},
     "output_type": "execute_result"
    }
   ],
   "source": [
    "df.duplicated().sum() #checking again for duplicate values and we have 0"
   ]
  },
  {
   "cell_type": "code",
   "execution_count": 63,
   "id": "c55313f9-40e1-419b-bba7-5426995bbf81",
   "metadata": {},
   "outputs": [
    {
     "data": {
      "text/plain": [
       "array(['ham', 'spam'], dtype=object)"
      ]
     },
     "execution_count": 63,
     "metadata": {},
     "output_type": "execute_result"
    }
   ],
   "source": [
    "df[\"Category\"].unique()"
   ]
  },
  {
   "cell_type": "code",
   "execution_count": 64,
   "id": "edd5bcb9-3a63-4767-a4ba-32637d867eb2",
   "metadata": {},
   "outputs": [
    {
     "name": "stdout",
     "output_type": "stream",
     "text": [
      "Data type before conversion: object\n"
     ]
    }
   ],
   "source": [
    "print(\"Data type before conversion:\", df['Category'].dtype)"
   ]
  },
  {
   "cell_type": "code",
   "execution_count": 65,
   "id": "b2b013b8-db21-420e-aabd-fffc2510d401",
   "metadata": {},
   "outputs": [],
   "source": [
    "#now converting values from category column to 0,1\n",
    "#there several methods like replace , map and using sickit_learn library encoder\n",
    "# df['Category'] = df['Category'].map({'ham': 0, 'spam': 1})"
   ]
  },
  {
   "cell_type": "code",
   "execution_count": 66,
   "id": "ac8c2db0-af2b-41c3-ae52-94c0a1417ab0",
   "metadata": {},
   "outputs": [],
   "source": [
    "#or we can use sickit_learn library instead \n",
    "from sklearn.preprocessing import LabelEncoder\n",
    "encoder=LabelEncoder()\n",
    "df['Category']=encoder.fit_transform(df['Category'])"
   ]
  },
  {
   "cell_type": "code",
   "execution_count": 67,
   "id": "bab26dc6-ff2f-4da0-8980-53506a05b20c",
   "metadata": {},
   "outputs": [
    {
     "data": {
      "text/plain": [
       "array([0, 1])"
      ]
     },
     "execution_count": 67,
     "metadata": {},
     "output_type": "execute_result"
    }
   ],
   "source": [
    "df['Category'].unique()"
   ]
  },
  {
   "cell_type": "code",
   "execution_count": 68,
   "id": "37e8b1aa-0aa2-48d5-8254-cd7b4ded5d49",
   "metadata": {},
   "outputs": [],
   "source": [
    "#changing datatype of column as int\n",
    "df[\"Category\"]=df[\"Category\"].astype(int)"
   ]
  },
  {
   "cell_type": "code",
   "execution_count": 69,
   "id": "3bd9adbb-79a9-4ef5-b79e-fa0793ff6a0a",
   "metadata": {
    "scrolled": true
   },
   "outputs": [
    {
     "data": {
      "text/plain": [
       "(5157, 2)"
      ]
     },
     "execution_count": 69,
     "metadata": {},
     "output_type": "execute_result"
    }
   ],
   "source": [
    "df.shape"
   ]
  },
  {
   "cell_type": "markdown",
   "id": "a75153fd-19e6-4605-883f-dcb7a168bae8",
   "metadata": {},
   "source": [
    "## Lowercase\n",
    "some time our operation on data can be case sensitive so converting text data to lower case to eliminate this condition\n",
    "## tokenization\n",
    "assigning token to words, sentences\n",
    "## punctuation marks\n",
    "removing punctuation marks using string library \n",
    "## stop words\n",
    "stop words are used to make sentences like is,am,are,therefore etc\n",
    "## stemming\n",
    "converting other forms to first form of the verb"
   ]
  },
  {
   "cell_type": "code",
   "execution_count": 71,
   "id": "cf73568f-61b5-489c-8d54-2a810b2d5611",
   "metadata": {},
   "outputs": [],
   "source": [
    "#importing important libraries\n",
    "import re #regular expression \n",
    "import nltk #natural language tokenization \n",
    "from nltk.corpus import stopwords\n",
    "from nltk.tokenize import word_tokenize\n",
    "from nltk.stem import PorterStemmer\n",
    "from string import punctuation"
   ]
  },
  {
   "cell_type": "code",
   "execution_count": 72,
   "id": "d1952984-02d6-4593-82d0-a22bdef7aa48",
   "metadata": {},
   "outputs": [
    {
     "name": "stderr",
     "output_type": "stream",
     "text": [
      "[nltk_data] Downloading package punkt to\n",
      "[nltk_data]     C:\\Users\\wwwre\\AppData\\Roaming\\nltk_data...\n",
      "[nltk_data]   Package punkt is already up-to-date!\n"
     ]
    },
    {
     "data": {
      "text/plain": [
       "True"
      ]
     },
     "execution_count": 72,
     "metadata": {},
     "output_type": "execute_result"
    }
   ],
   "source": [
    "nltk.download('punkt')"
   ]
  },
  {
   "cell_type": "code",
   "execution_count": 73,
   "id": "8d3e3534-2874-482c-8d7f-7d0cde4ca8b8",
   "metadata": {},
   "outputs": [
    {
     "name": "stderr",
     "output_type": "stream",
     "text": [
      "[nltk_data] Downloading package stopwords to\n",
      "[nltk_data]     C:\\Users\\wwwre\\AppData\\Roaming\\nltk_data...\n",
      "[nltk_data]   Package stopwords is already up-to-date!\n"
     ]
    },
    {
     "data": {
      "text/plain": [
       "True"
      ]
     },
     "execution_count": 73,
     "metadata": {},
     "output_type": "execute_result"
    }
   ],
   "source": [
    "nltk.download('stopwords')"
   ]
  },
  {
   "cell_type": "code",
   "execution_count": 74,
   "id": "5148fea2-204c-4399-9f4b-acc14e38c1ce",
   "metadata": {},
   "outputs": [],
   "source": [
    "#creating a function to process the data and store processed data in other column as processd data\n",
    "def preprocess_text(text):\n",
    "    # Convert to lowercase\n",
    "    text = text.lower()\n",
    "    \n",
    "    # Remove special characters using regex\n",
    "    text = re.sub(r'[^a-zA-Z0-9\\s]', '', text)\n",
    "    \n",
    "    # Tokenize the text\n",
    "    tokens = word_tokenize(text)\n",
    "    \n",
    "    # Remove stop words and punctuation\n",
    "    stop_words = set(stopwords.words('english'))\n",
    "    tokens = [word for word in tokens if word not in stop_words and word not in punctuation]\n",
    "    \n",
    "    # Stemming\n",
    "    stemmer = PorterStemmer()\n",
    "    tokens = [stemmer.stem(token) for token in tokens]\n",
    "    \n",
    "    return tokens\n",
    "\n",
    "# Apply the preprocessing function and save the results in a new column\n",
    "df['processed_text'] = df['Message'].apply(preprocess_text)\n"
   ]
  },
  {
   "cell_type": "code",
   "execution_count": 75,
   "id": "0e99e27e-a5e7-4541-b9d8-bdc10235ea46",
   "metadata": {},
   "outputs": [
    {
     "data": {
      "text/plain": [
       "['go',\n",
       " 'jurong',\n",
       " 'point',\n",
       " 'crazi',\n",
       " 'avail',\n",
       " 'bugi',\n",
       " 'n',\n",
       " 'great',\n",
       " 'world',\n",
       " 'la',\n",
       " 'e',\n",
       " 'buffet',\n",
       " 'cine',\n",
       " 'got',\n",
       " 'amor',\n",
       " 'wat']"
      ]
     },
     "execution_count": 75,
     "metadata": {},
     "output_type": "execute_result"
    }
   ],
   "source": [
    "df['processed_text'][0]"
   ]
  },
  {
   "cell_type": "code",
   "execution_count": 76,
   "id": "8b2d2255-b9d1-4d27-a8f4-08e34ce87a46",
   "metadata": {},
   "outputs": [],
   "source": [
    "#using join to join tokens to create simple words\n",
    "df['processed_text'] = df['processed_text'].apply(lambda x: ' '.join(x))"
   ]
  },
  {
   "cell_type": "code",
   "execution_count": 77,
   "id": "c0567842-feaa-4ba3-94c8-bec9cde20f50",
   "metadata": {
    "scrolled": true
   },
   "outputs": [
    {
     "data": {
      "text/html": [
       "<div>\n",
       "<style scoped>\n",
       "    .dataframe tbody tr th:only-of-type {\n",
       "        vertical-align: middle;\n",
       "    }\n",
       "\n",
       "    .dataframe tbody tr th {\n",
       "        vertical-align: top;\n",
       "    }\n",
       "\n",
       "    .dataframe thead th {\n",
       "        text-align: right;\n",
       "    }\n",
       "</style>\n",
       "<table border=\"1\" class=\"dataframe\">\n",
       "  <thead>\n",
       "    <tr style=\"text-align: right;\">\n",
       "      <th></th>\n",
       "      <th>Category</th>\n",
       "      <th>Message</th>\n",
       "      <th>processed_text</th>\n",
       "    </tr>\n",
       "  </thead>\n",
       "  <tbody>\n",
       "    <tr>\n",
       "      <th>0</th>\n",
       "      <td>0</td>\n",
       "      <td>Go until jurong point, crazy.. Available only ...</td>\n",
       "      <td>go jurong point crazi avail bugi n great world...</td>\n",
       "    </tr>\n",
       "    <tr>\n",
       "      <th>1</th>\n",
       "      <td>0</td>\n",
       "      <td>Ok lar... Joking wif u oni...</td>\n",
       "      <td>ok lar joke wif u oni</td>\n",
       "    </tr>\n",
       "    <tr>\n",
       "      <th>2</th>\n",
       "      <td>1</td>\n",
       "      <td>Free entry in 2 a wkly comp to win FA Cup fina...</td>\n",
       "      <td>free entri 2 wkli comp win fa cup final tkt 21...</td>\n",
       "    </tr>\n",
       "    <tr>\n",
       "      <th>3</th>\n",
       "      <td>0</td>\n",
       "      <td>U dun say so early hor... U c already then say...</td>\n",
       "      <td>u dun say earli hor u c alreadi say</td>\n",
       "    </tr>\n",
       "    <tr>\n",
       "      <th>4</th>\n",
       "      <td>0</td>\n",
       "      <td>Nah I don't think he goes to usf, he lives aro...</td>\n",
       "      <td>nah dont think goe usf live around though</td>\n",
       "    </tr>\n",
       "  </tbody>\n",
       "</table>\n",
       "</div>"
      ],
      "text/plain": [
       "   Category                                            Message  \\\n",
       "0         0  Go until jurong point, crazy.. Available only ...   \n",
       "1         0                      Ok lar... Joking wif u oni...   \n",
       "2         1  Free entry in 2 a wkly comp to win FA Cup fina...   \n",
       "3         0  U dun say so early hor... U c already then say...   \n",
       "4         0  Nah I don't think he goes to usf, he lives aro...   \n",
       "\n",
       "                                      processed_text  \n",
       "0  go jurong point crazi avail bugi n great world...  \n",
       "1                              ok lar joke wif u oni  \n",
       "2  free entri 2 wkli comp win fa cup final tkt 21...  \n",
       "3                u dun say earli hor u c alreadi say  \n",
       "4          nah dont think goe usf live around though  "
      ]
     },
     "execution_count": 77,
     "metadata": {},
     "output_type": "execute_result"
    }
   ],
   "source": [
    "df.head()"
   ]
  },
  {
   "cell_type": "markdown",
   "id": "842c23a7-f5fb-45e1-a328-f18b1a5c1a4c",
   "metadata": {},
   "source": [
    "## Extracting most common words from both ham and spam messages"
   ]
  },
  {
   "cell_type": "code",
   "execution_count": 79,
   "id": "73d16bd0-178e-45f5-8eb8-4e718fafc6cb",
   "metadata": {
    "scrolled": true
   },
   "outputs": [],
   "source": [
    "#showing most common words in spam messages\n",
    "#creating empty list\n",
    "spam_msg=[]\n",
    "#converting current data to single list\n",
    "for msg in df[df['Category'] == 1]['processed_text'].tolist():\n",
    "    for word in msg.split():\n",
    "        spam_msg.append(word)"
   ]
  },
  {
   "cell_type": "code",
   "execution_count": 80,
   "id": "03a0a8aa-31e7-4e45-b35a-00c531841df9",
   "metadata": {},
   "outputs": [
    {
     "data": {
      "image/png": "[encoded data removed]",
      "text/plain": [
       "<Figure size 1000x600 with 1 Axes>"
      ]
     },
     "metadata": {},
     "output_type": "display_data"
    }
   ],
   "source": [
    "#importing library for most common words\n",
    "from collections import Counter\n",
    "plt.figure(figsize=(10,6))\n",
    "\n",
    "sns.barplot(x=pd.DataFrame(Counter(spam_msg).most_common(15))[0],y=pd.DataFrame(Counter(spam_msg).most_common(15))[1],hue=pd.DataFrame(Counter(spam_msg).most_common(20))[0],palette=\"spring\",legend=False)\n",
    "plt.show()\n"
   ]
  },
  {
   "cell_type": "code",
   "execution_count": 81,
   "id": "568039aa-e645-4505-bcdf-ac643433b83d",
   "metadata": {},
   "outputs": [],
   "source": [
    "#showing most common words in ham messages\n",
    "#creating empty list\n",
    "ham_msg=[]\n",
    "#converting current data to single list\n",
    "for msg in df[df['Category'] == 0]['processed_text'].tolist():\n",
    "    for word in msg.split():\n",
    "        ham_msg.append(word)"
   ]
  },
  {
   "cell_type": "code",
   "execution_count": 82,
   "id": "0c5cfaaa-9d18-4038-bbea-248682f6b249",
   "metadata": {},
   "outputs": [
    {
     "data": {
      "image/png": "[encoded data removed]",
      "text/plain": [
       "<Figure size 1000x600 with 1 Axes>"
      ]
     },
     "metadata": {},
     "output_type": "display_data"
    }
   ],
   "source": [
    "plt.figure(figsize=(10,6))\n",
    "\n",
    "sns.barplot(x=pd.DataFrame(Counter(ham_msg).most_common(15))[0],y=pd.DataFrame(Counter(ham_msg).most_common(15))[1],hue=pd.DataFrame(Counter(ham_msg).most_common(20))[0],palette=\"viridis\",legend=False)\n",
    "plt.show()\n"
   ]
  },
  {
   "cell_type": "markdown",
   "id": "3e29fc3b-ea89-4f73-bfd6-820b8829b714",
   "metadata": {},
   "source": [
    "## Model Building "
   ]
  },
  {
   "cell_type": "code",
   "execution_count": 171,
   "id": "b444099c-8a08-48d7-9ba1-d0360366903a",
   "metadata": {},
   "outputs": [],
   "source": [
    "from sklearn.feature_extraction.text import CountVectorizer,TfidfVectorizer\n",
    "from sklearn.model_selection import train_test_split\n",
    "from sklearn.naive_bayes import MultinomialNB, BernoulliNB,GaussianNB\n",
    "from sklearn.svm import SVC\n",
    "from sklearn.ensemble import RandomForestClassifier, GradientBoostingClassifier\n",
    "from sklearn.linear_model import LogisticRegression\n",
    "from sklearn.neighbors import KNeighborsClassifier\n",
    "from sklearn.metrics import accuracy_score, confusion_matrix, classification_report,precision_score\n",
    "from sklearn.pipeline import make_pipeline\n"
   ]
  },
  {
   "cell_type": "code",
   "execution_count": 172,
   "id": "2804deb6-67cf-4fc0-9861-148e63f2bb99",
   "metadata": {},
   "outputs": [],
   "source": [
    "#Vectorize the text data using binary CountVectorizer\n",
    "vectorizer = CountVectorizer(max_features=1000,binary=True)\n",
    "X = vectorizer.fit_transform(df['processed_text']).toarray()\n",
    "y = df['Category']"
   ]
  },
  {
   "cell_type": "code",
   "execution_count": 173,
   "id": "54380ce0-aecd-48fa-8f4e-0178bbe1b7cb",
   "metadata": {},
   "outputs": [],
   "source": [
    "# Split data into training and test sets\n",
    "X_train, X_test, y_train, y_test = train_test_split(X, y, test_size=0.3, random_state=42)"
   ]
  },
  {
   "cell_type": "code",
   "execution_count": 174,
   "id": "868b1949-f857-4478-b753-caf12eab182e",
   "metadata": {},
   "outputs": [],
   "source": [
    "# Initialize models\n",
    "models = {\n",
    "    \"Multinomial Naive Bayes\": MultinomialNB(),\n",
    "    \"Bernoulli Naive Bayes\": BernoulliNB(),\n",
    "    \"Gaussian Naive Bayes\" : GaussianNB(),\n",
    "    \"SVM\": SVC(),\n",
    "    \"Random Forest\": RandomForestClassifier(),\n",
    "    \"Logistic Regression\": LogisticRegression(),\n",
    "    \"k-NN\": KNeighborsClassifier(),\n",
    "    \"Gradient Boosting\": GradientBoostingClassifier()\n",
    "}\n"
   ]
  },
  {
   "cell_type": "code",
   "execution_count": 175,
   "id": "6e5a84db-43ee-40ef-acce-fb5c8dfc57eb",
   "metadata": {},
   "outputs": [
    {
     "name": "stdout",
     "output_type": "stream",
     "text": [
      "Model: Multinomial Naive Bayes\n",
      "Accuracy: 0.977390180878553\n",
      "Precision: 0.9719101123595506\n",
      "Confusion Matrix:\n",
      " [[1340    5]\n",
      " [  30  173]]\n",
      "Classification Report:\n",
      "               precision    recall  f1-score   support\n",
      "\n",
      "           0       0.98      1.00      0.99      1345\n",
      "           1       0.97      0.85      0.91       203\n",
      "\n",
      "    accuracy                           0.98      1548\n",
      "   macro avg       0.98      0.92      0.95      1548\n",
      "weighted avg       0.98      0.98      0.98      1548\n",
      "\n",
      "--------------------------------------------------\n",
      "Model: Bernoulli Naive Bayes\n",
      "Accuracy: 0.9832041343669251\n",
      "Precision: 0.9783783783783784\n",
      "Confusion Matrix:\n",
      " [[1341    4]\n",
      " [  22  181]]\n",
      "Classification Report:\n",
      "               precision    recall  f1-score   support\n",
      "\n",
      "           0       0.98      1.00      0.99      1345\n",
      "           1       0.98      0.89      0.93       203\n",
      "\n",
      "    accuracy                           0.98      1548\n",
      "   macro avg       0.98      0.94      0.96      1548\n",
      "weighted avg       0.98      0.98      0.98      1548\n",
      "\n",
      "--------------------------------------------------\n",
      "Model: Gaussian Naive Bayes\n",
      "Accuracy: 0.7435400516795866\n",
      "Precision: 0.3339041095890411\n",
      "Confusion Matrix:\n",
      " [[956 389]\n",
      " [  8 195]]\n",
      "Classification Report:\n",
      "               precision    recall  f1-score   support\n",
      "\n",
      "           0       0.99      0.71      0.83      1345\n",
      "           1       0.33      0.96      0.50       203\n",
      "\n",
      "    accuracy                           0.74      1548\n",
      "   macro avg       0.66      0.84      0.66      1548\n",
      "weighted avg       0.91      0.74      0.78      1548\n",
      "\n",
      "--------------------------------------------------\n",
      "Model: SVM\n",
      "Accuracy: 0.9812661498708011\n",
      "Precision: 0.9833333333333333\n",
      "Confusion Matrix:\n",
      " [[1342    3]\n",
      " [  26  177]]\n",
      "Classification Report:\n",
      "               precision    recall  f1-score   support\n",
      "\n",
      "           0       0.98      1.00      0.99      1345\n",
      "           1       0.98      0.87      0.92       203\n",
      "\n",
      "    accuracy                           0.98      1548\n",
      "   macro avg       0.98      0.93      0.96      1548\n",
      "weighted avg       0.98      0.98      0.98      1548\n",
      "\n",
      "--------------------------------------------------\n",
      "Model: Random Forest\n",
      "Accuracy: 0.9728682170542635\n",
      "Precision: 0.9548022598870056\n",
      "Confusion Matrix:\n",
      " [[1337    8]\n",
      " [  34  169]]\n",
      "Classification Report:\n",
      "               precision    recall  f1-score   support\n",
      "\n",
      "           0       0.98      0.99      0.98      1345\n",
      "           1       0.95      0.83      0.89       203\n",
      "\n",
      "    accuracy                           0.97      1548\n",
      "   macro avg       0.97      0.91      0.94      1548\n",
      "weighted avg       0.97      0.97      0.97      1548\n",
      "\n",
      "--------------------------------------------------\n",
      "Model: Logistic Regression\n",
      "Accuracy: 0.9631782945736435\n",
      "Precision: 0.95625\n",
      "Confusion Matrix:\n",
      " [[1338    7]\n",
      " [  50  153]]\n",
      "Classification Report:\n",
      "               precision    recall  f1-score   support\n",
      "\n",
      "           0       0.96      0.99      0.98      1345\n",
      "           1       0.96      0.75      0.84       203\n",
      "\n",
      "    accuracy                           0.96      1548\n",
      "   macro avg       0.96      0.87      0.91      1548\n",
      "weighted avg       0.96      0.96      0.96      1548\n",
      "\n",
      "--------------------------------------------------\n",
      "Model: k-NN\n",
      "Accuracy: 0.9166666666666666\n",
      "Precision: 0.9868421052631579\n",
      "Confusion Matrix:\n",
      " [[1344    1]\n",
      " [ 128   75]]\n",
      "Classification Report:\n",
      "               precision    recall  f1-score   support\n",
      "\n",
      "           0       0.91      1.00      0.95      1345\n",
      "           1       0.99      0.37      0.54       203\n",
      "\n",
      "    accuracy                           0.92      1548\n",
      "   macro avg       0.95      0.68      0.75      1548\n",
      "weighted avg       0.92      0.92      0.90      1548\n",
      "\n",
      "--------------------------------------------------\n",
      "Model: Gradient Boosting\n",
      "Accuracy: 0.962532299741602\n",
      "Precision: 0.9393939393939394\n",
      "Confusion Matrix:\n",
      " [[1335   10]\n",
      " [  48  155]]\n",
      "Classification Report:\n",
      "               precision    recall  f1-score   support\n",
      "\n",
      "           0       0.97      0.99      0.98      1345\n",
      "           1       0.94      0.76      0.84       203\n",
      "\n",
      "    accuracy                           0.96      1548\n",
      "   macro avg       0.95      0.88      0.91      1548\n",
      "weighted avg       0.96      0.96      0.96      1548\n",
      "\n",
      "--------------------------------------------------\n"
     ]
    }
   ],
   "source": [
    "# for name, model in models.items():\n",
    "# Train the model\n",
    "# Train and evaluate each model\n",
    "for name, model in models.items():\n",
    "    model.fit(X_train_kbest, y_train)\n",
    "     # Make predictions\n",
    "    y_pred = model.predict(X_test_kbest)\n",
    "    \n",
    "    # Print performance metrics\n",
    "    print(f\"Model: {name}\")\n",
    "    print(\"Accuracy:\", accuracy_score(y_test, y_pred))\n",
    "    print(\"Precision:\", precision_score(y_test, y_pred))\n",
    "    print(\"Confusion Matrix:\\n\", confusion_matrix(y_test, y_pred))\n",
    "    print(\"Classification Report:\\n\", classification_report(y_test, y_pred))\n",
    "    print(\"-\" * 50)"
   ]
  },
  {
   "cell_type": "code",
   "execution_count": 164,
   "id": "5ad78ec9-cde6-438a-a20e-8bf6e0660b56",
   "metadata": {},
   "outputs": [
    {
     "name": "stdout",
     "output_type": "stream",
     "text": [
      "Accuracy: 0.977390180878553\n",
      "              precision    recall  f1-score   support\n",
      "\n",
      "           0       0.98      1.00      0.99      1345\n",
      "           1       0.97      0.85      0.91       203\n",
      "\n",
      "    accuracy                           0.98      1548\n",
      "   macro avg       0.98      0.92      0.95      1548\n",
      "weighted avg       0.98      0.98      0.98      1548\n",
      "\n"
     ]
    }
   ],
   "source": [
    "\n",
    "from sklearn.feature_extraction.text import TfidfVectorizer\n",
    "from sklearn.feature_selection import SelectKBest, chi2\n",
    "\n",
    "# Load data\n",
    "# Assume `emails` is a DataFrame with 'text' for email content and 'label' for spam/ham\n",
    "# Example: emails = pd.read_csv('spam.csv')\n",
    "\n",
    "# Convert text to TF-IDF features\n",
    "vectorizer = TfidfVectorizer(max_features=1000,binary=True)  # Limit to top 1000 features\n",
    "X = vectorizer.fit_transform(df['processed_text']).toarray()\n",
    "y = df['Category']\n",
    "\n",
    "# Split data into training and testing sets\n",
    "X_train, X_test, y_train, y_test = train_test_split(X, y, test_size=0.3, random_state=42)\n",
    "\n",
    "# Apply Chi-Squared feature selection\n",
    "chi2_selector = SelectKBest(chi2, k=500)  # Select top 500 features\n",
    "X_train_kbest = chi2_selector.fit_transform(X_train, y_train)\n",
    "X_test_kbest = chi2_selector.transform(X_test)\n",
    "\n",
    "# Train Naive Bayes classifier\n",
    "nb = MultinomialNB()\n",
    "nb.fit(X_train_kbest, y_train)\n",
    "\n",
    "# Evaluate model\n",
    "y_pred = nb.predict(X_test_kbest)\n",
    "print(f\"Accuracy: {accuracy_score(y_test, y_pred)}\")\n",
    "print(classification_report(y_test, y_pred))\n"
   ]
  }
 ],
 "metadata": {
  "kernelspec": {
   "display_name": "Python 3 (ipykernel)",
   "language": "python",
   "name": "python3"
  },
  "language_info": {
   "codemirror_mode": {
    "name": "ipython",
    "version": 3
   },
   "file_extension": ".py",
   "mimetype": "text/x-python",
   "name": "python",
   "nbconvert_exporter": "python",
   "pygments_lexer": "ipython3",
   "version": "3.12.4"
  }
 },
 "nbformat": 4,
 "nbformat_minor": 5
}
