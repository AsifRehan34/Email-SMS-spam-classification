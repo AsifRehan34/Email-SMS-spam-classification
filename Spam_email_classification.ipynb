{
 "cells": [
  {
   "cell_type": "markdown",
   "id": "027512dd-a457-4c4b-b827-71a584cd7626",
   "metadata": {},
   "source": [
    "# Email Spam Classification"
   ]
  },
  {
   "cell_type": "markdown",
   "id": "d3a13f40-27b0-4bce-a988-850b9c98bbfd",
   "metadata": {},
   "source": [
    "## task_1:\n",
    "Dataset collection: Data collected and stored in csv file."
   ]
  },
  {
   "cell_type": "markdown",
   "id": "462a9554-6b80-4b99-b38b-43a656b3a5b8",
   "metadata": {},
   "source": [
    "## Importing important libraries"
   ]
  },
  {
   "cell_type": "code",
   "execution_count": 1,
   "id": "e99c0e12-6342-4e83-b618-c0cb3b82273e",
   "metadata": {},
   "outputs": [],
   "source": [
    "import numpy as np # to perform numrical operations on data\n",
    "import pandas as pd # to read and perform operations on dataod\n",
    "import matplotlib.pyplot as plt # for data visualization \n",
    "import seaborn as sns"
   ]
  },
  {
   "cell_type": "code",
   "execution_count": 2,
   "id": "4b71dd18-5e4a-4402-be01-a4af4f6ea123",
   "metadata": {},
   "outputs": [],
   "source": [
    "#reading data from file\n",
    "df=pd.read_csv(\"mail_data.csv\")"
   ]
  },
  {
   "cell_type": "code",
   "execution_count": 3,
   "id": "873e08b7-1052-4de3-8b57-d6d3e3110530",
   "metadata": {},
   "outputs": [
    {
     "data": {
      "text/html": [
       "<div>\n",
       "<style scoped>\n",
       "    .dataframe tbody tr th:only-of-type {\n",
       "        vertical-align: middle;\n",
       "    }\n",
       "\n",
       "    .dataframe tbody tr th {\n",
       "        vertical-align: top;\n",
       "    }\n",
       "\n",
       "    .dataframe thead th {\n",
       "        text-align: right;\n",
       "    }\n",
       "</style>\n",
       "<table border=\"1\" class=\"dataframe\">\n",
       "  <thead>\n",
       "    <tr style=\"text-align: right;\">\n",
       "      <th></th>\n",
       "      <th>Category</th>\n",
       "      <th>Message</th>\n",
       "    </tr>\n",
       "  </thead>\n",
       "  <tbody>\n",
       "    <tr>\n",
       "      <th>0</th>\n",
       "      <td>ham</td>\n",
       "      <td>Go until jurong point, crazy.. Available only ...</td>\n",
       "    </tr>\n",
       "    <tr>\n",
       "      <th>1</th>\n",
       "      <td>ham</td>\n",
       "      <td>Ok lar... Joking wif u oni...</td>\n",
       "    </tr>\n",
       "    <tr>\n",
       "      <th>2</th>\n",
       "      <td>spam</td>\n",
       "      <td>Free entry in 2 a wkly comp to win FA Cup fina...</td>\n",
       "    </tr>\n",
       "    <tr>\n",
       "      <th>3</th>\n",
       "      <td>ham</td>\n",
       "      <td>U dun say so early hor... U c already then say...</td>\n",
       "    </tr>\n",
       "    <tr>\n",
       "      <th>4</th>\n",
       "      <td>ham</td>\n",
       "      <td>Nah I don't think he goes to usf, he lives aro...</td>\n",
       "    </tr>\n",
       "    <tr>\n",
       "      <th>5</th>\n",
       "      <td>spam</td>\n",
       "      <td>FreeMsg Hey there darling it's been 3 week's n...</td>\n",
       "    </tr>\n",
       "    <tr>\n",
       "      <th>6</th>\n",
       "      <td>ham</td>\n",
       "      <td>Even my brother is not like to speak with me. ...</td>\n",
       "    </tr>\n",
       "    <tr>\n",
       "      <th>7</th>\n",
       "      <td>ham</td>\n",
       "      <td>As per your request 'Melle Melle (Oru Minnamin...</td>\n",
       "    </tr>\n",
       "    <tr>\n",
       "      <th>8</th>\n",
       "      <td>spam</td>\n",
       "      <td>WINNER!! As a valued network customer you have...</td>\n",
       "    </tr>\n",
       "    <tr>\n",
       "      <th>9</th>\n",
       "      <td>spam</td>\n",
       "      <td>Had your mobile 11 months or more? U R entitle...</td>\n",
       "    </tr>\n",
       "  </tbody>\n",
       "</table>\n",
       "</div>"
      ],
      "text/plain": [
       "  Category                                            Message\n",
       "0      ham  Go until jurong point, crazy.. Available only ...\n",
       "1      ham                      Ok lar... Joking wif u oni...\n",
       "2     spam  Free entry in 2 a wkly comp to win FA Cup fina...\n",
       "3      ham  U dun say so early hor... U c already then say...\n",
       "4      ham  Nah I don't think he goes to usf, he lives aro...\n",
       "5     spam  FreeMsg Hey there darling it's been 3 week's n...\n",
       "6      ham  Even my brother is not like to speak with me. ...\n",
       "7      ham  As per your request 'Melle Melle (Oru Minnamin...\n",
       "8     spam  WINNER!! As a valued network customer you have...\n",
       "9     spam  Had your mobile 11 months or more? U R entitle..."
      ]
     },
     "execution_count": 3,
     "metadata": {},
     "output_type": "execute_result"
    }
   ],
   "source": [
    "#printing sample data of first 10 rows\n",
    "df.head(10)"
   ]
  },
  {
   "cell_type": "code",
   "execution_count": 4,
   "id": "570b97e7-2801-4ecd-8be1-8bfe4530354e",
   "metadata": {},
   "outputs": [
    {
     "data": {
      "text/plain": [
       "(5572, 2)"
      ]
     },
     "execution_count": 4,
     "metadata": {},
     "output_type": "execute_result"
    }
   ],
   "source": [
    "#printing data shape to know more about data set\n",
    "df.shape # our data contains 5572 rows and 2 columns"
   ]
  },
  {
   "cell_type": "markdown",
   "id": "e6fd461a-8daf-42d0-b73b-e90dc9b0b696",
   "metadata": {},
   "source": [
    "# 2. Data Preproceesing "
   ]
  },
  {
   "cell_type": "markdown",
   "id": "0804f37a-d755-4b96-b84c-214d8c0e3f17",
   "metadata": {},
   "source": [
    "1. Data preprocessing involves performing operations on data make it clean and error free. \n",
    "2. remove duplicate values\n",
    "3. remove null values\n",
    "4. remove unwanted data\n",
    "5. convert to lower case \n",
    "6. remove special character like / .,;\n"
   ]
  },
  {
   "cell_type": "code",
   "execution_count": 5,
   "id": "37d65c2a-c088-4443-9fd6-a9207e1b9267",
   "metadata": {},
   "outputs": [
    {
     "name": "stdout",
     "output_type": "stream",
     "text": [
      "<class 'pandas.core.frame.DataFrame'>\n",
      "RangeIndex: 5572 entries, 0 to 5571\n",
      "Data columns (total 2 columns):\n",
      " #   Column    Non-Null Count  Dtype \n",
      "---  ------    --------------  ----- \n",
      " 0   Category  5572 non-null   object\n",
      " 1   Message   5572 non-null   object\n",
      "dtypes: object(2)\n",
      "memory usage: 87.2+ KB\n"
     ]
    }
   ],
   "source": [
    "#getting more information about data \n",
    "df.info()"
   ]
  },
  {
   "cell_type": "code",
   "execution_count": 6,
   "id": "c837e535-a773-45f8-a7e3-ea667fdf241c",
   "metadata": {},
   "outputs": [
    {
     "data": {
      "text/plain": [
       "Category    0\n",
       "Message     0\n",
       "dtype: int64"
      ]
     },
     "execution_count": 6,
     "metadata": {},
     "output_type": "execute_result"
    }
   ],
   "source": [
    "#checking null values\n",
    "df.isnull().sum()\n",
    "#our does not contain any null values "
   ]
  },
  {
   "cell_type": "code",
   "execution_count": 7,
   "id": "86f1083c-dd3f-40b7-b63a-31327d0188da",
   "metadata": {},
   "outputs": [
    {
     "data": {
      "text/plain": [
       "np.int64(415)"
      ]
     },
     "execution_count": 7,
     "metadata": {},
     "output_type": "execute_result"
    }
   ],
   "source": [
    "#check for duplicate values \n",
    "df.duplicated().sum()"
   ]
  },
  {
   "cell_type": "code",
   "execution_count": 8,
   "id": "fa0e49de-dadb-454d-8f91-e84e8715e312",
   "metadata": {},
   "outputs": [],
   "source": [
    "#dropping duplicate values\n",
    "#using inplace=True to change values in original data set \n",
    "df.drop_duplicates(inplace=True)"
   ]
  },
  {
   "cell_type": "code",
   "execution_count": 9,
   "id": "f7e4820f-b012-4f3d-8eca-fbfc0fa820de",
   "metadata": {},
   "outputs": [
    {
     "data": {
      "text/plain": [
       "np.int64(0)"
      ]
     },
     "execution_count": 9,
     "metadata": {},
     "output_type": "execute_result"
    }
   ],
   "source": [
    "df.duplicated().sum() #checking again for duplicate values and we have 0"
   ]
  },
  {
   "cell_type": "code",
   "execution_count": 10,
   "id": "c55313f9-40e1-419b-bba7-5426995bbf81",
   "metadata": {},
   "outputs": [
    {
     "data": {
      "text/plain": [
       "array(['ham', 'spam'], dtype=object)"
      ]
     },
     "execution_count": 10,
     "metadata": {},
     "output_type": "execute_result"
    }
   ],
   "source": [
    "df[\"Category\"].unique()"
   ]
  },
  {
   "cell_type": "code",
   "execution_count": 11,
   "id": "edd5bcb9-3a63-4767-a4ba-32637d867eb2",
   "metadata": {},
   "outputs": [
    {
     "name": "stdout",
     "output_type": "stream",
     "text": [
      "Data type before conversion: object\n"
     ]
    }
   ],
   "source": [
    "print(\"Data type before conversion:\", df['Category'].dtype)"
   ]
  },
  {
   "cell_type": "code",
   "execution_count": 12,
   "id": "b2b013b8-db21-420e-aabd-fffc2510d401",
   "metadata": {},
   "outputs": [],
   "source": [
    "#now converting values from category column to 0,1\n",
    "#there several methods like replace , map and using sickit_learn library encoder\n",
    "# df['Category'] = df['Category'].map({'ham': 0, 'spam': 1})"
   ]
  },
  {
   "cell_type": "code",
   "execution_count": 13,
   "id": "ac8c2db0-af2b-41c3-ae52-94c0a1417ab0",
   "metadata": {},
   "outputs": [],
   "source": [
    "#or we can use sickit_learn library instead \n",
    "from sklearn.preprocessing import LabelEncoder\n",
    "encoder=LabelEncoder()\n",
    "df['Category']=encoder.fit_transform(df['Category'])"
   ]
  },
  {
   "cell_type": "code",
   "execution_count": 14,
   "id": "bab26dc6-ff2f-4da0-8980-53506a05b20c",
   "metadata": {},
   "outputs": [
    {
     "data": {
      "text/plain": [
       "array([0, 1])"
      ]
     },
     "execution_count": 14,
     "metadata": {},
     "output_type": "execute_result"
    }
   ],
   "source": [
    "df['Category'].unique()"
   ]
  },
  {
   "cell_type": "code",
   "execution_count": 15,
   "id": "37e8b1aa-0aa2-48d5-8254-cd7b4ded5d49",
   "metadata": {},
   "outputs": [],
   "source": [
    "#changing datatype of column as int\n",
    "df[\"Category\"]=df[\"Category\"].astype(int)"
   ]
  },
  {
   "cell_type": "code",
   "execution_count": 16,
   "id": "3bd9adbb-79a9-4ef5-b79e-fa0793ff6a0a",
   "metadata": {
    "scrolled": true
   },
   "outputs": [
    {
     "data": {
      "text/plain": [
       "(5157, 2)"
      ]
     },
     "execution_count": 16,
     "metadata": {},
     "output_type": "execute_result"
    }
   ],
   "source": [
    "df.shape"
   ]
  },
  {
   "cell_type": "markdown",
   "id": "a75153fd-19e6-4605-883f-dcb7a168bae8",
   "metadata": {},
   "source": [
    "## Lowercase\n",
    "some time our operation on data can be case sensitive so converting text data to lower case to eliminate this condition\n",
    "## tokenization\n",
    "assigning token to words, sentences\n",
    "## punctuation marks\n",
    "removing punctuation marks using string library \n",
    "## stop words\n",
    "stop words are used to make sentences like is,am,are,therefore etc\n",
    "## stemming\n",
    "converting other forms to first form of the verb"
   ]
  },
  {
   "cell_type": "code",
   "execution_count": 17,
   "id": "cf73568f-61b5-489c-8d54-2a810b2d5611",
   "metadata": {},
   "outputs": [],
   "source": [
    "#importing important libraries\n",
    "import re #regular expression \n",
    "import nltk #natural language tokenization \n",
    "from nltk.corpus import stopwords\n",
    "from nltk.tokenize import word_tokenize\n",
    "from nltk.stem import PorterStemmer\n",
    "from string import punctuation"
   ]
  },
  {
   "cell_type": "code",
   "execution_count": 18,
   "id": "d1952984-02d6-4593-82d0-a22bdef7aa48",
   "metadata": {},
   "outputs": [
    {
     "name": "stderr",
     "output_type": "stream",
     "text": [
      "[nltk_data] Error loading punkt: <urlopen error [Errno 11001]\n",
      "[nltk_data]     getaddrinfo failed>\n"
     ]
    },
    {
     "data": {
      "text/plain": [
       "False"
      ]
     },
     "execution_count": 18,
     "metadata": {},
     "output_type": "execute_result"
    }
   ],
   "source": [
    "nltk.download('punkt')"
   ]
  },
  {
   "cell_type": "code",
   "execution_count": 19,
   "id": "8d3e3534-2874-482c-8d7f-7d0cde4ca8b8",
   "metadata": {},
   "outputs": [
    {
     "name": "stderr",
     "output_type": "stream",
     "text": [
      "[nltk_data] Error loading stopwords: <urlopen error [Errno 11001]\n",
      "[nltk_data]     getaddrinfo failed>\n"
     ]
    },
    {
     "data": {
      "text/plain": [
       "False"
      ]
     },
     "execution_count": 19,
     "metadata": {},
     "output_type": "execute_result"
    }
   ],
   "source": [
    "nltk.download('stopwords')"
   ]
  },
  {
   "cell_type": "code",
   "execution_count": 48,
   "id": "5148fea2-204c-4399-9f4b-acc14e38c1ce",
   "metadata": {},
   "outputs": [],
   "source": [
    "#creating a function to process the data and store processed data in other column as processd data\n",
    "def preprocess_text(text):\n",
    "    # Convert to lowercase\n",
    "    text = text.lower()\n",
    "    \n",
    "    # Remove special characters using regex\n",
    "    text = re.sub(r'[^a-zA-Z0-9\\s]', '', text)\n",
    "    \n",
    "    # Tokenize the text\n",
    "    tokens = word_tokenize(text)\n",
    "    \n",
    "    # Remove stop words and punctuation\n",
    "    stop_words = set(stopwords.words('english'))\n",
    "    tokens = [word for word in tokens if word not in stop_words and word not in punctuation]\n",
    "    \n",
    "    # Stemming\n",
    "    stemmer = PorterStemmer()\n",
    "    tokens = [stemmer.stem(token) for token in tokens]\n",
    "     # Join tokens back to a single string\n",
    "    preprocessed_text = ' '.join(tokens)\n",
    "    return preprocessed_text\n",
    "# df['processed_text'] = df['processed_text'].apply(lambda x: ' '.join(x))\n",
    "# Apply the preprocessing function and save the results in a new column\n",
    "# df['processed_text'] = df['Message'].apply(preprocess_text)\n"
   ]
  },
  {
   "cell_type": "code",
   "execution_count": 49,
   "id": "5bea1b61-3731-4610-a930-74a0ad6862ac",
   "metadata": {},
   "outputs": [],
   "source": [
    "df['processed_text'] = df['Message'].apply(preprocess_text)"
   ]
  },
  {
   "cell_type": "code",
   "execution_count": 50,
   "id": "0e99e27e-a5e7-4541-b9d8-bdc10235ea46",
   "metadata": {},
   "outputs": [
    {
     "data": {
      "text/plain": [
       "'go jurong point crazi avail bugi n great world la e buffet cine got amor wat'"
      ]
     },
     "execution_count": 50,
     "metadata": {},
     "output_type": "execute_result"
    }
   ],
   "source": [
    "df['processed_text'][0]"
   ]
  },
  {
   "cell_type": "code",
   "execution_count": 51,
   "id": "8b2d2255-b9d1-4d27-a8f4-08e34ce87a46",
   "metadata": {},
   "outputs": [],
   "source": [
    "#using join to join tokens to create simple words\n",
    "# df['processed_text'] = df['processed_text'].apply(lambda x: ' '.join(x))"
   ]
  },
  {
   "cell_type": "code",
   "execution_count": 52,
   "id": "c0567842-feaa-4ba3-94c8-bec9cde20f50",
   "metadata": {
    "scrolled": true
   },
   "outputs": [
    {
     "data": {
      "text/html": [
       "<div>\n",
       "<style scoped>\n",
       "    .dataframe tbody tr th:only-of-type {\n",
       "        vertical-align: middle;\n",
       "    }\n",
       "\n",
       "    .dataframe tbody tr th {\n",
       "        vertical-align: top;\n",
       "    }\n",
       "\n",
       "    .dataframe thead th {\n",
       "        text-align: right;\n",
       "    }\n",
       "</style>\n",
       "<table border=\"1\" class=\"dataframe\">\n",
       "  <thead>\n",
       "    <tr style=\"text-align: right;\">\n",
       "      <th></th>\n",
       "      <th>Category</th>\n",
       "      <th>Message</th>\n",
       "      <th>processed_text</th>\n",
       "    </tr>\n",
       "  </thead>\n",
       "  <tbody>\n",
       "    <tr>\n",
       "      <th>0</th>\n",
       "      <td>0</td>\n",
       "      <td>Go until jurong point, crazy.. Available only ...</td>\n",
       "      <td>go jurong point crazi avail bugi n great world...</td>\n",
       "    </tr>\n",
       "    <tr>\n",
       "      <th>1</th>\n",
       "      <td>0</td>\n",
       "      <td>Ok lar... Joking wif u oni...</td>\n",
       "      <td>ok lar joke wif u oni</td>\n",
       "    </tr>\n",
       "    <tr>\n",
       "      <th>2</th>\n",
       "      <td>1</td>\n",
       "      <td>Free entry in 2 a wkly comp to win FA Cup fina...</td>\n",
       "      <td>free entri 2 wkli comp win fa cup final tkt 21...</td>\n",
       "    </tr>\n",
       "    <tr>\n",
       "      <th>3</th>\n",
       "      <td>0</td>\n",
       "      <td>U dun say so early hor... U c already then say...</td>\n",
       "      <td>u dun say earli hor u c alreadi say</td>\n",
       "    </tr>\n",
       "    <tr>\n",
       "      <th>4</th>\n",
       "      <td>0</td>\n",
       "      <td>Nah I don't think he goes to usf, he lives aro...</td>\n",
       "      <td>nah dont think goe usf live around though</td>\n",
       "    </tr>\n",
       "  </tbody>\n",
       "</table>\n",
       "</div>"
      ],
      "text/plain": [
       "   Category                                            Message  \\\n",
       "0         0  Go until jurong point, crazy.. Available only ...   \n",
       "1         0                      Ok lar... Joking wif u oni...   \n",
       "2         1  Free entry in 2 a wkly comp to win FA Cup fina...   \n",
       "3         0  U dun say so early hor... U c already then say...   \n",
       "4         0  Nah I don't think he goes to usf, he lives aro...   \n",
       "\n",
       "                                      processed_text  \n",
       "0  go jurong point crazi avail bugi n great world...  \n",
       "1                              ok lar joke wif u oni  \n",
       "2  free entri 2 wkli comp win fa cup final tkt 21...  \n",
       "3                u dun say earli hor u c alreadi say  \n",
       "4          nah dont think goe usf live around though  "
      ]
     },
     "execution_count": 52,
     "metadata": {},
     "output_type": "execute_result"
    }
   ],
   "source": [
    "df.head()"
   ]
  },
  {
   "cell_type": "markdown",
   "id": "842c23a7-f5fb-45e1-a328-f18b1a5c1a4c",
   "metadata": {},
   "source": [
    "## Extracting most common words from both ham and spam messages"
   ]
  },
  {
   "cell_type": "code",
   "execution_count": 24,
   "id": "73d16bd0-178e-45f5-8eb8-4e718fafc6cb",
   "metadata": {
    "scrolled": true
   },
   "outputs": [],
   "source": [
    "#showing most common words in spam messages\n",
    "#creating empty list\n",
    "spam_msg=[]\n",
    "#converting current data to single list\n",
    "for msg in df[df['Category'] == 1]['processed_text'].tolist():\n",
    "    for word in msg.split():\n",
    "        spam_msg.append(word)"
   ]
  },
  {
   "cell_type": "code",
   "execution_count": 25,
   "id": "03a0a8aa-31e7-4e45-b35a-00c531841df9",
   "metadata": {},
   "outputs": [
    {
     "data": {
      "image/png": "[encoded data removed]",
      "text/plain": [
       "<Figure size 1000x600 with 1 Axes>"
      ]
     },
     "metadata": {},
     "output_type": "display_data"
    }
   ],
   "source": [
    "#importing library for most common words\n",
    "from collections import Counter\n",
    "plt.figure(figsize=(10,6))\n",
    "\n",
    "sns.barplot(x=pd.DataFrame(Counter(spam_msg).most_common(15))[0],y=pd.DataFrame(Counter(spam_msg).most_common(15))[1],hue=pd.DataFrame(Counter(spam_msg).most_common(20))[0],palette=\"spring\",legend=False)\n",
    "plt.show()\n"
   ]
  },
  {
   "cell_type": "code",
   "execution_count": 26,
   "id": "568039aa-e645-4505-bcdf-ac643433b83d",
   "metadata": {},
   "outputs": [],
   "source": [
    "#showing most common words in ham messages\n",
    "#creating empty list\n",
    "ham_msg=[]\n",
    "#converting current data to single list\n",
    "for msg in df[df['Category'] == 0]['processed_text'].tolist():\n",
    "    for word in msg.split():\n",
    "        ham_msg.append(word)"
   ]
  },
  {
   "cell_type": "code",
   "execution_count": 27,
   "id": "0c5cfaaa-9d18-4038-bbea-248682f6b249",
   "metadata": {},
   "outputs": [
    {
     "data": {
      "image/png": "[encoded data removed]",
      "text/plain": [
       "<Figure size 1000x600 with 1 Axes>"
      ]
     },
     "metadata": {},
     "output_type": "display_data"
    }
   ],
   "source": [
    "plt.figure(figsize=(10,6))\n",
    "\n",
    "sns.barplot(x=pd.DataFrame(Counter(ham_msg).most_common(15))[0],y=pd.DataFrame(Counter(ham_msg).most_common(15))[1],hue=pd.DataFrame(Counter(ham_msg).most_common(20))[0],palette=\"viridis\",legend=False)\n",
    "plt.show()\n"
   ]
  },
  {
   "cell_type": "markdown",
   "id": "3e29fc3b-ea89-4f73-bfd6-820b8829b714",
   "metadata": {},
   "source": [
    "## Model Building "
   ]
  },
  {
   "cell_type": "code",
   "execution_count": 28,
   "id": "b444099c-8a08-48d7-9ba1-d0360366903a",
   "metadata": {},
   "outputs": [],
   "source": [
    "from sklearn.feature_extraction.text import CountVectorizer,TfidfVectorizer\n",
    "from sklearn.model_selection import train_test_split\n",
    "from sklearn.naive_bayes import MultinomialNB, BernoulliNB,GaussianNB\n",
    "from sklearn.svm import SVC\n",
    "from sklearn.ensemble import RandomForestClassifier, GradientBoostingClassifier\n",
    "from sklearn.linear_model import LogisticRegression\n",
    "from sklearn.neighbors import KNeighborsClassifier\n",
    "from sklearn.metrics import accuracy_score, confusion_matrix, classification_report,precision_score\n",
    "from sklearn.pipeline import make_pipeline\n"
   ]
  },
  {
   "cell_type": "code",
   "execution_count": 29,
   "id": "2804deb6-67cf-4fc0-9861-148e63f2bb99",
   "metadata": {},
   "outputs": [],
   "source": [
    "#Vectorize the text data using binary CountVectorizer\n",
    "\n",
    "vectorizer = TfidfVectorizer(binary=True,max_features=3000)\n",
    "X = vectorizer.fit_transform(df['processed_text']).toarray()\n",
    "y = df['Category']"
   ]
  },
  {
   "cell_type": "code",
   "execution_count": 30,
   "id": "54380ce0-aecd-48fa-8f4e-0178bbe1b7cb",
   "metadata": {},
   "outputs": [],
   "source": [
    "# Split data into training and test sets\n",
    "X_train, X_test, y_train, y_test = train_test_split(X, y, test_size=0.3, random_state=42)"
   ]
  },
  {
   "cell_type": "code",
   "execution_count": 31,
   "id": "868b1949-f857-4478-b753-caf12eab182e",
   "metadata": {},
   "outputs": [],
   "source": [
    "# Initialize models\n",
    "models = {\n",
    "    \"Multinomial Naive Bayes\": MultinomialNB(),\n",
    "    \"Bernoulli Naive Bayes\": BernoulliNB(),\n",
    "    \"Gaussian Naive Bayes\" : GaussianNB(),\n",
    "    \"SVM\": SVC(),\n",
    "    \"Random Forest\": RandomForestClassifier(),\n",
    "    \"Logistic Regression\": LogisticRegression(),\n",
    "    \"k-NN\": KNeighborsClassifier(),\n",
    "    \"Gradient Boosting\": GradientBoostingClassifier()\n",
    "}\n"
   ]
  },
  {
   "cell_type": "code",
   "execution_count": 32,
   "id": "6e5a84db-43ee-40ef-acce-fb5c8dfc57eb",
   "metadata": {},
   "outputs": [
    {
     "name": "stdout",
     "output_type": "stream",
     "text": [
      "Model: Multinomial Naive Bayes\n",
      "Accuracy: 0.9767441860465116\n",
      "precision: 1.0\n",
      "Confusion Matrix:\n",
      " [[1345    0]\n",
      " [  36  167]]\n",
      "Classification Report:\n",
      "               precision    recall  f1-score   support\n",
      "\n",
      "           0       0.97      1.00      0.99      1345\n",
      "           1       1.00      0.82      0.90       203\n",
      "\n",
      "    accuracy                           0.98      1548\n",
      "   macro avg       0.99      0.91      0.94      1548\n",
      "weighted avg       0.98      0.98      0.98      1548\n",
      "\n",
      "--------------------------------------------------\n",
      "Model: Bernoulli Naive Bayes\n",
      "Accuracy: 0.9799741602067183\n",
      "precision: 0.9725274725274725\n",
      "Confusion Matrix:\n",
      " [[1340    5]\n",
      " [  26  177]]\n",
      "Classification Report:\n",
      "               precision    recall  f1-score   support\n",
      "\n",
      "           0       0.98      1.00      0.99      1345\n",
      "           1       0.97      0.87      0.92       203\n",
      "\n",
      "    accuracy                           0.98      1548\n",
      "   macro avg       0.98      0.93      0.95      1548\n",
      "weighted avg       0.98      0.98      0.98      1548\n",
      "\n",
      "--------------------------------------------------\n",
      "Model: Gaussian Naive Bayes\n",
      "Accuracy: 0.8669250645994832\n",
      "precision: 0.49584487534626037\n",
      "Confusion Matrix:\n",
      " [[1163  182]\n",
      " [  24  179]]\n",
      "Classification Report:\n",
      "               precision    recall  f1-score   support\n",
      "\n",
      "           0       0.98      0.86      0.92      1345\n",
      "           1       0.50      0.88      0.63       203\n",
      "\n",
      "    accuracy                           0.87      1548\n",
      "   macro avg       0.74      0.87      0.78      1548\n",
      "weighted avg       0.92      0.87      0.88      1548\n",
      "\n",
      "--------------------------------------------------\n",
      "Model: SVM\n",
      "Accuracy: 0.9735142118863049\n",
      "precision: 0.9709302325581395\n",
      "Confusion Matrix:\n",
      " [[1340    5]\n",
      " [  36  167]]\n",
      "Classification Report:\n",
      "               precision    recall  f1-score   support\n",
      "\n",
      "           0       0.97      1.00      0.98      1345\n",
      "           1       0.97      0.82      0.89       203\n",
      "\n",
      "    accuracy                           0.97      1548\n",
      "   macro avg       0.97      0.91      0.94      1548\n",
      "weighted avg       0.97      0.97      0.97      1548\n",
      "\n",
      "--------------------------------------------------\n",
      "Model: Random Forest\n",
      "Accuracy: 0.9748062015503876\n",
      "precision: 0.9606741573033708\n",
      "Confusion Matrix:\n",
      " [[1338    7]\n",
      " [  32  171]]\n",
      "Classification Report:\n",
      "               precision    recall  f1-score   support\n",
      "\n",
      "           0       0.98      0.99      0.99      1345\n",
      "           1       0.96      0.84      0.90       203\n",
      "\n",
      "    accuracy                           0.97      1548\n",
      "   macro avg       0.97      0.92      0.94      1548\n",
      "weighted avg       0.97      0.97      0.97      1548\n",
      "\n",
      "--------------------------------------------------\n",
      "Model: Logistic Regression\n",
      "Accuracy: 0.9560723514211886\n",
      "precision: 0.9591836734693877\n",
      "Confusion Matrix:\n",
      " [[1339    6]\n",
      " [  62  141]]\n",
      "Classification Report:\n",
      "               precision    recall  f1-score   support\n",
      "\n",
      "           0       0.96      1.00      0.98      1345\n",
      "           1       0.96      0.69      0.81       203\n",
      "\n",
      "    accuracy                           0.96      1548\n",
      "   macro avg       0.96      0.85      0.89      1548\n",
      "weighted avg       0.96      0.96      0.95      1548\n",
      "\n",
      "--------------------------------------------------\n",
      "Model: k-NN\n",
      "Accuracy: 0.91343669250646\n",
      "precision: 1.0\n",
      "Confusion Matrix:\n",
      " [[1345    0]\n",
      " [ 134   69]]\n",
      "Classification Report:\n",
      "               precision    recall  f1-score   support\n",
      "\n",
      "           0       0.91      1.00      0.95      1345\n",
      "           1       1.00      0.34      0.51       203\n",
      "\n",
      "    accuracy                           0.91      1548\n",
      "   macro avg       0.95      0.67      0.73      1548\n",
      "weighted avg       0.92      0.91      0.89      1548\n",
      "\n",
      "--------------------------------------------------\n",
      "Model: Gradient Boosting\n",
      "Accuracy: 0.9651162790697675\n",
      "precision: 0.9408284023668639\n",
      "Confusion Matrix:\n",
      " [[1335   10]\n",
      " [  44  159]]\n",
      "Classification Report:\n",
      "               precision    recall  f1-score   support\n",
      "\n",
      "           0       0.97      0.99      0.98      1345\n",
      "           1       0.94      0.78      0.85       203\n",
      "\n",
      "    accuracy                           0.97      1548\n",
      "   macro avg       0.95      0.89      0.92      1548\n",
      "weighted avg       0.96      0.97      0.96      1548\n",
      "\n",
      "--------------------------------------------------\n"
     ]
    }
   ],
   "source": [
    "# Initialize a list to store results\n",
    "results_list = []\n",
    "# Train and evaluate each model\n",
    "for name, model in models.items():\n",
    "    # Train the model\n",
    "    model.fit(X_train, y_train)\n",
    "    \n",
    "    # Make predictions\n",
    "    y_pred = model.predict(X_test)\n",
    "     # Calculate accuracy and precision\n",
    "    accuracy = accuracy_score(y_test, y_pred)\n",
    "    precision = precision_score(y_test, y_pred)  # Assume 'spam' is the positive class\n",
    "\n",
    "    # Append the results to the list\n",
    "    results_list.append({'Model': name, 'Metric': 'Accuracy', 'Score': accuracy})\n",
    "    results_list.append({'Model': name, 'Metric': 'Precision', 'Score': precision})\n",
    "    \n",
    "    # Print performance metrics\n",
    "    print(f\"Model: {name}\")\n",
    "    print(\"Accuracy:\", accuracy_score(y_test, y_pred))\n",
    "    print(\"precision:\", precision_score(y_test, y_pred))\n",
    "    print(\"Confusion Matrix:\\n\", confusion_matrix(y_test, y_pred))\n",
    "    print(\"Classification Report:\\n\", classification_report(y_test, y_pred))\n",
    "    print(\"-\" * 50)"
   ]
  },
  {
   "cell_type": "code",
   "execution_count": 33,
   "id": "c9d55990-1c88-42bc-9b79-707630511a3f",
   "metadata": {},
   "outputs": [],
   "source": [
    "# Create a DataFrame from the results list\n",
    "results_df = pd.DataFrame(results_list)"
   ]
  },
  {
   "cell_type": "code",
   "execution_count": 34,
   "id": "f8d38df1-a1f6-4f44-bac9-f45f9d5b4a31",
   "metadata": {},
   "outputs": [],
   "source": [
    "# results_df1"
   ]
  },
  {
   "cell_type": "code",
   "execution_count": 35,
   "id": "67224695-fbe2-415f-962d-3afae9e15dc9",
   "metadata": {},
   "outputs": [
    {
     "data": {
      "text/html": [
       "<div>\n",
       "<style scoped>\n",
       "    .dataframe tbody tr th:only-of-type {\n",
       "        vertical-align: middle;\n",
       "    }\n",
       "\n",
       "    .dataframe tbody tr th {\n",
       "        vertical-align: top;\n",
       "    }\n",
       "\n",
       "    .dataframe thead th {\n",
       "        text-align: right;\n",
       "    }\n",
       "</style>\n",
       "<table border=\"1\" class=\"dataframe\">\n",
       "  <thead>\n",
       "    <tr style=\"text-align: right;\">\n",
       "      <th></th>\n",
       "      <th>Model</th>\n",
       "      <th>Metric</th>\n",
       "      <th>Score</th>\n",
       "    </tr>\n",
       "  </thead>\n",
       "  <tbody>\n",
       "    <tr>\n",
       "      <th>13</th>\n",
       "      <td>k-NN</td>\n",
       "      <td>Precision</td>\n",
       "      <td>1.000000</td>\n",
       "    </tr>\n",
       "    <tr>\n",
       "      <th>12</th>\n",
       "      <td>k-NN</td>\n",
       "      <td>Accuracy</td>\n",
       "      <td>0.913437</td>\n",
       "    </tr>\n",
       "    <tr>\n",
       "      <th>7</th>\n",
       "      <td>SVM</td>\n",
       "      <td>Precision</td>\n",
       "      <td>0.970930</td>\n",
       "    </tr>\n",
       "    <tr>\n",
       "      <th>6</th>\n",
       "      <td>SVM</td>\n",
       "      <td>Accuracy</td>\n",
       "      <td>0.973514</td>\n",
       "    </tr>\n",
       "    <tr>\n",
       "      <th>9</th>\n",
       "      <td>Random Forest</td>\n",
       "      <td>Precision</td>\n",
       "      <td>0.960674</td>\n",
       "    </tr>\n",
       "    <tr>\n",
       "      <th>8</th>\n",
       "      <td>Random Forest</td>\n",
       "      <td>Accuracy</td>\n",
       "      <td>0.974806</td>\n",
       "    </tr>\n",
       "    <tr>\n",
       "      <th>1</th>\n",
       "      <td>Multinomial Naive Bayes</td>\n",
       "      <td>Precision</td>\n",
       "      <td>1.000000</td>\n",
       "    </tr>\n",
       "    <tr>\n",
       "      <th>0</th>\n",
       "      <td>Multinomial Naive Bayes</td>\n",
       "      <td>Accuracy</td>\n",
       "      <td>0.976744</td>\n",
       "    </tr>\n",
       "    <tr>\n",
       "      <th>11</th>\n",
       "      <td>Logistic Regression</td>\n",
       "      <td>Precision</td>\n",
       "      <td>0.959184</td>\n",
       "    </tr>\n",
       "    <tr>\n",
       "      <th>10</th>\n",
       "      <td>Logistic Regression</td>\n",
       "      <td>Accuracy</td>\n",
       "      <td>0.956072</td>\n",
       "    </tr>\n",
       "    <tr>\n",
       "      <th>15</th>\n",
       "      <td>Gradient Boosting</td>\n",
       "      <td>Precision</td>\n",
       "      <td>0.940828</td>\n",
       "    </tr>\n",
       "    <tr>\n",
       "      <th>14</th>\n",
       "      <td>Gradient Boosting</td>\n",
       "      <td>Accuracy</td>\n",
       "      <td>0.965116</td>\n",
       "    </tr>\n",
       "    <tr>\n",
       "      <th>5</th>\n",
       "      <td>Gaussian Naive Bayes</td>\n",
       "      <td>Precision</td>\n",
       "      <td>0.495845</td>\n",
       "    </tr>\n",
       "    <tr>\n",
       "      <th>4</th>\n",
       "      <td>Gaussian Naive Bayes</td>\n",
       "      <td>Accuracy</td>\n",
       "      <td>0.866925</td>\n",
       "    </tr>\n",
       "    <tr>\n",
       "      <th>3</th>\n",
       "      <td>Bernoulli Naive Bayes</td>\n",
       "      <td>Precision</td>\n",
       "      <td>0.972527</td>\n",
       "    </tr>\n",
       "    <tr>\n",
       "      <th>2</th>\n",
       "      <td>Bernoulli Naive Bayes</td>\n",
       "      <td>Accuracy</td>\n",
       "      <td>0.979974</td>\n",
       "    </tr>\n",
       "  </tbody>\n",
       "</table>\n",
       "</div>"
      ],
      "text/plain": [
       "                      Model     Metric     Score\n",
       "13                     k-NN  Precision  1.000000\n",
       "12                     k-NN   Accuracy  0.913437\n",
       "7                       SVM  Precision  0.970930\n",
       "6                       SVM   Accuracy  0.973514\n",
       "9             Random Forest  Precision  0.960674\n",
       "8             Random Forest   Accuracy  0.974806\n",
       "1   Multinomial Naive Bayes  Precision  1.000000\n",
       "0   Multinomial Naive Bayes   Accuracy  0.976744\n",
       "11      Logistic Regression  Precision  0.959184\n",
       "10      Logistic Regression   Accuracy  0.956072\n",
       "15        Gradient Boosting  Precision  0.940828\n",
       "14        Gradient Boosting   Accuracy  0.965116\n",
       "5      Gaussian Naive Bayes  Precision  0.495845\n",
       "4      Gaussian Naive Bayes   Accuracy  0.866925\n",
       "3     Bernoulli Naive Bayes  Precision  0.972527\n",
       "2     Bernoulli Naive Bayes   Accuracy  0.979974"
      ]
     },
     "execution_count": 35,
     "metadata": {},
     "output_type": "execute_result"
    }
   ],
   "source": [
    "# Sort the results DataFrame by Model and Metric\n",
    "sorted_results_df = results_df.sort_values(by=['Model', 'Metric'], ascending=False)\n",
    "sorted_results_df"
   ]
  },
  {
   "cell_type": "code",
   "execution_count": 36,
   "id": "35276ea3-edfb-4201-b411-82a0453ae88b",
   "metadata": {},
   "outputs": [
    {
     "data": {
      "text/plain": [
       "<Figure size 800x600 with 0 Axes>"
      ]
     },
     "metadata": {},
     "output_type": "display_data"
    },
    {
     "data": {
      "image/png": "[encoded data removed]",
      "text/plain": [
       "<Figure size 1117.88x500 with 1 Axes>"
      ]
     },
     "metadata": {},
     "output_type": "display_data"
    }
   ],
   "source": [
    "# Plot the results using a catplot\n",
    "plt.figure(figsize=(8, 6))\n",
    "sns.set(style=\"whitegrid\")\n",
    "catplot = sns.catplot(\n",
    "    data=sorted_results_df, \n",
    "    x='Model', \n",
    "    y='Score', \n",
    "    hue='Metric', \n",
    "    kind='bar', \n",
    "    palette='viridis',\n",
    "    height=5,\n",
    "    aspect=2\n",
    ")\n",
    "catplot.set_axis_labels(\"Model\", \"Score\")\n",
    "catplot.fig.suptitle('Comparison of Model Accuracy and Precision', fontsize=16)\n",
    "plt.ylim(0, 1)\n",
    "plt.xticks(rotation=45)\n",
    "plt.show()"
   ]
  },
  {
   "cell_type": "markdown",
   "id": "ddab047b-e029-4a5d-b418-dd4dda622600",
   "metadata": {},
   "source": [
    "## prediction"
   ]
  },
  {
   "cell_type": "code",
   "execution_count": 89,
   "id": "2b71aa4f-3036-4de2-babc-c96d23bd4070",
   "metadata": {},
   "outputs": [
    {
     "name": "stdout",
     "output_type": "stream",
     "text": [
      "Prediction Results for New Emails:\n",
      "spam\n",
      "ham\n",
      "ham\n",
      "ham\n"
     ]
    }
   ],
   "source": [
    "# Define a list of new emails to test\n",
    "new_emails = [\n",
    "    \"Congratulations! You've won a $1000 gift card. Click here to claim your prize.\",\n",
    "    \"Hi team, can we schedule a meeting for tomorrow to discuss the project?\",\n",
    "    \"Your account has been compromised. Please provide your login details to verify your identity.\",\n",
    "    \"Let's catch up soon. I have some updates on our upcoming event.\"\n",
    "]\n",
    "\n",
    "# Preprocess new emails\n",
    "preprocessed_emails = [preprocess_text(email) for email in new_emails]\n",
    "\n",
    "# Vectorize the preprocessed new emails\n",
    "X_new = vectorizer.transform(preprocessed_emails).toarray()\n",
    "\n",
    "# Predict using the trained models\n",
    "predictions = {name: model.predict(X_new) for name, model in models.items()}\n",
    "\n",
    "# Predict using the trained Multinomial Naive Bayes model\n",
    "multinomial_predictions = models[\"Multinomial Naive Bayes\"].predict(X_new)\n",
    "\n",
    "# Print results using if-else logic\n",
    "print(\"Prediction Results for New Emails:\")\n",
    "for pred in multinomial_predictions:\n",
    "    if pred == 1:\n",
    "        print(\"spam\")\n",
    "    else:\n",
    "        print(\"ham\")\n"
   ]
  },
  {
   "cell_type": "code",
   "execution_count": 89,
   "id": "b59c0056-5ab9-423b-aa91-fb9d61cf3641",
   "metadata": {},
   "outputs": [
    {
     "name": "stdout",
     "output_type": "stream",
     "text": [
      "Prediction Results for New Emails:\n",
      "spam\n",
      "ham\n",
      "ham\n",
      "ham\n"
     ]
    }
   ],
   "source": [
    "# Define a list of new emails to test\n",
    "new_emails = [\n",
    "    \"Congratulations! You've won a $1000 gift card. Click here to claim your prize.\",\n",
    "    \"Hi team, can we schedule a meeting for tomorrow to discuss the project?\",\n",
    "    \"Your account has been compromised. Please provide your login details to verify your identity.\",\n",
    "    \"Let's catch up soon. I have some updates on our upcoming event.\"\n",
    "]\n",
    "\n",
    "# Preprocess new emails\n",
    "preprocessed_emails = [preprocess_text(email) for email in new_emails]\n",
    "\n",
    "# Vectorize the preprocessed new emails\n",
    "X_new = vectorizer.transform(preprocessed_emails).toarray()\n",
    "\n",
    "# Predict using the trained models\n",
    "predictions = {name: model.predict(X_new) for name, model in models.items()}\n",
    "\n",
    "# Predict using the trained Multinomial Naive Bayes model\n",
    "multinomial_predictions = models[\"Multinomial Naive Bayes\"].predict(X_new)\n",
    "\n",
    "# Print results using if-else logic\n",
    "print(\"Prediction Results for New Emails:\")\n",
    "for pred in multinomial_predictions:\n",
    "    if pred == 1:\n",
    "        print(\"spam\")\n",
    "    else:\n",
    "        print(\"ham\")\n"
   ]
  }
 ],
 "metadata": {
  "kernelspec": {
   "display_name": "Python 3 (ipykernel)",
   "language": "python",
   "name": "python3"
  },
  "language_info": {
   "codemirror_mode": {
    "name": "ipython",
    "version": 3
   },
   "file_extension": ".py",
   "mimetype": "text/x-python",
   "name": "python",
   "nbconvert_exporter": "python",
   "pygments_lexer": "ipython3",
   "version": "3.12.4"
  }
 },
 "nbformat": 4,
 "nbformat_minor": 5
}
